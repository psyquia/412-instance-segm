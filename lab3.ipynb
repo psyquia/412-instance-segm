{
  "nbformat": 4,
  "nbformat_minor": 0,
  "metadata": {
    "colab": {
      "name": "lab3.ipynb",
      "private_outputs": true,
      "provenance": [],
      "collapsed_sections": [],
      "toc_visible": true
    },
    "kernelspec": {
      "name": "python3",
      "display_name": "Python 3"
    },
    "accelerator": "GPU"
  },
  "cells": [
    {
      "cell_type": "markdown",
      "metadata": {
        "id": "QHnVupBBn9eR"
      },
      "source": [
        "\n",
        "# Assignment 3\n",
        "\n",
        "This is a template notebook for Assignment 3.\n"
      ]
    },
    {
      "cell_type": "markdown",
      "metadata": {
        "id": "vM54r6jlKTII"
      },
      "source": [
        "## Install dependencies and initialization"
      ]
    },
    {
      "cell_type": "code",
      "metadata": {
        "id": "9_FzH13EjseR"
      },
      "source": [
        "# install dependencies: \n",
        "!pip install pyyaml==5.1 pycocotools>=2.0.1\n",
        "# !pip install detectron2 -f https://dl.fbaipublicfiles.com/detectron2/wheels/cu101/torch1.6/index.html\n",
        "!pip install detectron2 -f https://dl.fbaipublicfiles.com/detectron2/wheels/cu111/torch1.9/index.html"
      ],
      "execution_count": null,
      "outputs": []
    },
    {
      "cell_type": "code",
      "metadata": {
        "id": "dqAUb5Y12qXt"
      },
      "source": [
        "!pwd # shows current directory\n",
        "!ls  # shows all files in this directory\n",
        "!nvidia-smi # shows the specs and the current status of the allocated GPU"
      ],
      "execution_count": null,
      "outputs": []
    },
    {
      "cell_type": "code",
      "metadata": {
        "id": "b-i4hmGYk1dL"
      },
      "source": [
        "# import some common libraries\n",
        "from google.colab.patches import cv2_imshow\n",
        "from sklearn.metrics import jaccard_score\n",
        "from PIL import Image, ImageDraw\n",
        "from tqdm.notebook import tqdm\n",
        "import pandas as pd\n",
        "import numpy as np\n",
        "import datetime\n",
        "import random\n",
        "import json\n",
        "import cv2\n",
        "import csv\n",
        "import os\n",
        "\n",
        "# import some common pytorch utilities\n",
        "from torch.utils.data import Dataset, DataLoader\n",
        "import torchvision.transforms as transforms\n",
        "from torch.autograd import Variable\n",
        "import torch.nn.functional as F\n",
        "import torch.nn as nn\n",
        "import torch\n",
        "\n",
        "# import some common detectron2 utilities\n",
        "import detectron2\n",
        "from detectron2 import model_zoo\n",
        "from detectron2.config import get_cfg\n",
        "from detectron2.structures import BoxMode\n",
        "from detectron2.engine import DefaultTrainer\n",
        "from detectron2.engine import DefaultPredictor\n",
        "from detectron2.utils.logger import setup_logger\n",
        "from detectron2.utils.visualizer import ColorMode\n",
        "from detectron2.utils.visualizer import Visualizer\n",
        "from detectron2.data import build_detection_test_loader\n",
        "from detectron2.data import MetadataCatalog, DatasetCatalog\n",
        "from detectron2.evaluation import COCOEvaluator, inference_on_dataset\n",
        "setup_logger()"
      ],
      "execution_count": null,
      "outputs": []
    },
    {
      "cell_type": "code",
      "metadata": {
        "id": "tUA_j6AF1L5Y"
      },
      "source": [
        "# Make sure that GPU is available for your notebook. \n",
        "# Otherwise, you need to update the settungs in Runtime -> Change runtime type -> Hardware accelerator\n",
        "torch.cuda.is_available()"
      ],
      "execution_count": null,
      "outputs": []
    },
    {
      "cell_type": "code",
      "metadata": {
        "id": "ZyAvNCJMmvFF"
      },
      "source": [
        "# You need to mount your google drive in order to load the data:\n",
        "from google.colab import drive\n",
        "drive.mount('/content/drive')\n",
        "# Put all the corresponding data files in a data folder and put the data folder in a same directory with this notebook.\n",
        "# Also create an output directory for your files such as the trained models and the output images."
      ],
      "execution_count": null,
      "outputs": []
    },
    {
      "cell_type": "code",
      "metadata": {
        "id": "A_Di_fgL4HSv"
      },
      "source": [
        "# Define the location of current directory, which should contain data/train, data/test, and data/train.json.\n",
        "# TODO: approx 1 line\n",
        "BASE_DIR = '/content/drive/My Drive/CMPT_CV_lab3'\n",
        "OUTPUT_DIR = '{}/output'.format(BASE_DIR)\n",
        "os.makedirs(OUTPUT_DIR, exist_ok=True)"
      ],
      "execution_count": null,
      "outputs": []
    },
    {
      "cell_type": "markdown",
      "metadata": {
        "id": "Vk4gID50K03a"
      },
      "source": [
        "## Part 1: Object Detection"
      ]
    },
    {
      "cell_type": "markdown",
      "metadata": {
        "id": "xRV-KFJzlur4"
      },
      "source": [
        "### Data Loader"
      ]
    },
    {
      "cell_type": "code",
      "metadata": {
        "id": "dq9GY37ml1kr"
      },
      "source": [
        "'''\n",
        "# This function should return a list of data samples in which each sample is a dictionary. \n",
        "# Make sure to select the correct bbox_mode for the data\n",
        "# For the test data, you only have access to the images, therefore, the annotations should be empty.\n",
        "# Other values could be obtained from the image files.\n",
        "# param setname : \"train\", \"test\", or \"val\"\n",
        "# TODO: approx 35 lines\n",
        "'''\n",
        "import math\n",
        "\n",
        "def get_detection_data_from_disk(set_name):\n",
        "  data_dirs = '{}/data'.format(BASE_DIR)\n",
        "\n",
        "  imgs_anns = []\n",
        "\n",
        "  if set_name != 'test':\n",
        "    json_file = os.path.join(data_dirs, \"train.json\")\n",
        "    with open(json_file) as f:\n",
        "        imgs_anns = json.load(f)\n",
        "\n",
        "  data_dict = {}\n",
        "\n",
        "  start = 0\n",
        "  end = len(imgs_anns)\n",
        "\n",
        "  print('start is:',start)\n",
        "  print('end is:',end)\n",
        "  x= 0 \n",
        "  for i in range(start, end):\n",
        "    v = imgs_anns[i]\n",
        "    if v['image_id'] not in data_dict:\n",
        "      record = {}\n",
        "      filename = os.path.join(f\"{data_dirs}/train\", v[\"file_name\"])\n",
        "      height, width = cv2.imread(filename).shape[:2]\n",
        "      record[\"file_name\"] = filename\n",
        "      record[\"image_id\"] = v['image_id']\n",
        "      record[\"height\"] = height\n",
        "      record[\"width\"] = width\n",
        "      record['annotations'] = []\n",
        "      record['segments_info'] = []\n",
        "      data_dict[v['image_id']] = record\n",
        "\n",
        "    annotation = {\n",
        "        'bbox': v['bbox'],\n",
        "        'bbox_mode': BoxMode.XYWH_ABS,\n",
        "        'category_id': 0,\n",
        "        'segmentation': v['segmentation'],\n",
        "        'iscrowd': v['iscrowd']\n",
        "    }\n",
        "    data_dict[v['image_id']]['annotations'].append(annotation)\n",
        "\n",
        "    segment = {\n",
        "        'id': v['id'],\n",
        "        'category_id': 0,\n",
        "        'iscrowd': v['iscrowd']\n",
        "    }\n",
        "    data_dict[v['image_id']]['segments_info'].append(segment)\n",
        "\n",
        "    x+=1\n",
        "    if(x % 1000 == 0):\n",
        "      print(x)\n",
        "\n",
        "  idx = 0\n",
        "  if len(imgs_anns) == 0:\n",
        "    for file in os.listdir(f\"{data_dirs}/{set_name}\"):\n",
        "      filename = os.path.join(f\"{data_dirs}/{set_name}\", file)\n",
        "      height, width = cv2.imread(filename).shape[:2]\n",
        "      record = {}\n",
        "      record[\"file_name\"] = filename\n",
        "      record[\"image_id\"] = idx\n",
        "      record[\"height\"] = height\n",
        "      record[\"width\"] = width\n",
        "      record['annotations'] = []\n",
        "      data_dict[idx] = record\n",
        "      idx+=1\n",
        "\n",
        "  dataset = list(data_dict.values())\n",
        "\n",
        "  out_file = open(BASE_DIR + f\"/data/dataset_{set_name}.json\",\"w\")\n",
        "  json.dump(dataset, out_file)\n",
        "  out_file.close()\n",
        "\n",
        "  print('done')\n",
        "  print(len(dataset))\n",
        "  \n",
        "  return dataset\n",
        "\n",
        "def get_detection_data(set_name):\n",
        "  if not os.path.isfile(BASE_DIR + f\"/data/dataset_{set_name}.json\"):\n",
        "    return get_detection_data_from_disk(set_name)\n",
        " \n",
        "  f = open(BASE_DIR + f\"/data/dataset_{set_name}.json\")\n",
        "  data = json.load(f)\n",
        "  print(f'dataset_{set_name} loaded from file!')\n",
        "  return data"
      ],
      "execution_count": null,
      "outputs": []
    },
    {
      "cell_type": "code",
      "metadata": {
        "id": "xCH-2mWxDVVu"
      },
      "source": [
        "'''\n",
        "# Remember to add your dataset to DatasetCatalog and MetadataCatalog\n",
        "# Consdier \"data_detection_train\" and \"data_detection_test\" for registration\n",
        "# You can also add an optional \"data_detection_val\" for your validation by spliting the training data\n",
        "# TODO: approx 5 lines\n",
        "'''\n",
        "from sklearn.model_selection import train_test_split\n",
        "\n",
        "# clear\n",
        "DatasetCatalog.clear()\n",
        "MetadataCatalog.clear()\n",
        "\n",
        "for d in [\"train\", \"test\", \"val\"]:\n",
        "    DatasetCatalog.register(\"data_detection_\" + d, lambda d=d: get_detection_data(d))\n",
        "    MetadataCatalog.get(\"data_detection_\" + d).set(thing_classes=[\"plane\"])\n",
        "metadata_train = MetadataCatalog.get(\"data_detection_train\")\n",
        "metadata_test = MetadataCatalog.get(\"data_detection_test\")"
      ],
      "execution_count": null,
      "outputs": []
    },
    {
      "cell_type": "code",
      "metadata": {
        "id": "qNSdXCL_DVAz"
      },
      "source": [
        "'''\n",
        "# Visualize some samples using Visualizer to make sure that the function works correctly\n",
        "# TODO: approx 5 lines\n",
        "'''\n",
        "for d in random.sample(dataset_dicts_train, 3):\n",
        "    img = cv2.imread(d[\"file_name\"])\n",
        "    visualizer = Visualizer(img[:, :, ::-1], metadata=metadata_train, scale=0.5)\n",
        "    # visualizer = Visualizer(img[:, :, ::-1], scale=0.5)\n",
        "    out = visualizer.draw_dataset_dict(d)\n",
        "    cv2_imshow(out.get_image()[:, :, ::-1])\n"
      ],
      "execution_count": null,
      "outputs": []
    },
    {
      "cell_type": "markdown",
      "metadata": {
        "id": "uM1thbN-ntjI"
      },
      "source": [
        "### Set Configs"
      ]
    },
    {
      "cell_type": "code",
      "metadata": {
        "id": "HUjkwRsOn1O0"
      },
      "source": [
        "'''\n",
        "# Set the configs for the detection part in here.\n",
        "# TODO: approx 15 lines\n",
        "'''\n",
        "'''\n",
        "# THIS IS THE BAD CONFIG\n",
        "\n",
        "cfg = get_cfg()\n",
        "cfg.OUTPUT_DIR = \"{}/output/badconfig/\".format(BASE_DIR)\n",
        "\n",
        "cfg.merge_from_file(model_zoo.get_config_file(\"COCO-Detection/faster_rcnn_R_101_FPN_3x.yaml\"))\n",
        "cfg.DATASETS.TRAIN = (\"data_detection_train\",)\n",
        "cfg.DATASETS.TEST = ()\n",
        "cfg.DATALOADER.NUM_WORKERS = 2\n",
        "cfg.MODEL.WEIGHTS = model_zoo.get_checkpoint_url(\"COCO-Detection/faster_rcnn_R_101_FPN_3x.yaml\")  # Let training initialize from model zoo\n",
        "cfg.SOLVER.BATCH_SIZE_PER_IMAGE = 128\n",
        "\n",
        "cfg.SOLVER.IMS_PER_BATCH = 2  # batch size\n",
        "cfg.SOLVER.BASE_LR = 0.00025  # pick a good LR\n",
        "cfg.SOLVER.MAX_ITER = 500  # and a good number of iterations\n",
        "cfg.SOLVER.STEPS = []        # do not decay learning rate"
      ],
      "execution_count": null,
      "outputs": []
    },
    {
      "cell_type": "markdown",
      "metadata": {
        "id": "P4rql8pNokE4"
      },
      "source": [
        "### Training"
      ]
    },
    {
      "cell_type": "code",
      "metadata": {
        "id": "7d3KxiHO_0gb"
      },
      "source": [
        "'''\n",
        "# Create a DefaultTrainer using the above config and train the model\n",
        "# TODO: approx 5 lines\n",
        "'''\n",
        "os.makedirs(cfg.OUTPUT_DIR, exist_ok=True)\n",
        "trainer = DefaultTrainer(cfg) \n",
        "trainer.resume_or_load(resume=False)\n",
        "trainer.train()"
      ],
      "execution_count": null,
      "outputs": []
    },
    {
      "cell_type": "code",
      "metadata": {
        "id": "dqEHoUTj37mB"
      },
      "source": [
        "# Look at training curves in tensorboard:\n",
        "%load_ext tensorboard\n",
        "%tensorboard --logdir \"/content/drive/My Drive/CMPT_CV_lab3/output\""
      ],
      "execution_count": null,
      "outputs": []
    },
    {
      "cell_type": "markdown",
      "metadata": {
        "id": "vXXvTu6V-ogN"
      },
      "source": [
        ""
      ]
    },
    {
      "cell_type": "markdown",
      "metadata": {
        "id": "fRVEiICco3SV"
      },
      "source": [
        "### Evaluation and Visualization"
      ]
    },
    {
      "cell_type": "code",
      "metadata": {
        "id": "VYCIXdMZvDYL"
      },
      "source": [
        "'''\n",
        "# After training the model, you need to update cfg.MODEL.WEIGHTS\n",
        "# Define a DefaultPredictor\n",
        "'''\n",
        "cfg.MODEL.WEIGHTS = os.path.join(cfg.OUTPUT_DIR, \"model_final.pth\")  # path to the model we just trained\n",
        "cfg.MODEL.ROI_HEADS.SCORE_THRESH_TEST = 0.7   # set a custom testing threshold\n",
        "predictor = DefaultPredictor(cfg)"
      ],
      "execution_count": null,
      "outputs": []
    },
    {
      "cell_type": "code",
      "metadata": {
        "id": "_hRCf86KGi5v"
      },
      "source": [
        "'''\n",
        "# Visualize the output for 3 random test samples\n",
        "# TODO: approx 10 lines\n",
        "'''\n",
        "dataset_dicts_test = get_detection_data(\"test\")\n",
        "\n",
        "for d in random.sample(dataset_dicts_test, 3):    \n",
        "    im = cv2.imread(d[\"file_name\"])\n",
        "    outputs = predictor(im)  # format is documented at https://detectron2.readthedocs.io/tutorials/models.html#model-output-format\n",
        "    v = Visualizer(im[:, :, ::-1],\n",
        "                   metadata=metadata_train, \n",
        "                   scale=0.5, \n",
        "                   instance_mode=ColorMode.IMAGE_BW   # remove the colors of unsegmented pixels. This option is only available for segmentation models\n",
        "    )\n",
        "    out = v.draw_instance_predictions(outputs[\"instances\"].to(\"cpu\"))\n",
        "    cv2_imshow(out.get_image()[:, :, ::-1])"
      ],
      "execution_count": null,
      "outputs": []
    },
    {
      "cell_type": "code",
      "metadata": {
        "id": "D0wRdlcKo6BD"
      },
      "source": [
        "'''\n",
        "# Use COCOEvaluator and build_detection_train_loader\n",
        "# You can save the output predictions using inference_on_dataset\n",
        "# TODO: approx 5 lines\n",
        "'''\n",
        "from detectron2.evaluation import COCOEvaluator, inference_on_dataset\n",
        "from detectron2.data import build_detection_test_loader\n",
        "evaluator = COCOEvaluator(\"data_detection_train\", output_dir=OUTPUT_DIR)\n"
      ],
      "execution_count": null,
      "outputs": []
    },
    {
      "cell_type": "code",
      "metadata": {
        "id": "oxP0aTpKHF6j"
      },
      "source": [
        "cfg.MODEL.ROI_HEADS.SCORE_THRESH_TEST = 0.6  # set threshold for this model\n",
        "\n",
        "val_loader = build_detection_test_loader(cfg, \"data_detection_train\")\n",
        "print(inference_on_dataset(predictor.model, val_loader, evaluator))"
      ],
      "execution_count": null,
      "outputs": []
    },
    {
      "cell_type": "markdown",
      "metadata": {
        "id": "EwYvbwcjpKBk"
      },
      "source": [
        "### Improvements\n",
        "\n",
        "For this part, you can bring any improvement which you have by adding new input parameters to the previous functions or defining new functions and variables."
      ]
    },
    {
      "cell_type": "code",
      "metadata": {
        "id": "xdR6KbCZpOlk"
      },
      "source": [
        "'''\n",
        "# Bring any changes and updates regarding the improvement in here\n",
        "'''\n",
        "# THIS IS THE FINAL CONFIG\n",
        "\n",
        "cfg = get_cfg()\n",
        "cfg.OUTPUT_DIR = \"{}/output/\".format(BASE_DIR)\n",
        "\n",
        "cfg.merge_from_file(model_zoo.get_config_file(\"COCO-Detection/faster_rcnn_R_50_FPN_3x.yaml\"))\n",
        "cfg.DATASETS.TRAIN = (\"data_detection_train\",)\n",
        "cfg.DATASETS.TEST = ()\n",
        "cfg.DATALOADER.NUM_WORKERS = 2\n",
        "cfg.MODEL.WEIGHTS = model_zoo.get_checkpoint_url(\"COCO-Detection/faster_rcnn_R_50_FPN_3x.yaml\")  # Let training initialize from model zoo\n",
        "cfg.SOLVER.BATCH_SIZE_PER_IMAGE = 512\n",
        "cfg.SOLVER.IMS_PER_BATCH = 4  # batch size\n",
        "cfg.SOLVER.BASE_LR = 0.0005  # pick a good LR\n",
        "cfg.SOLVER.MAX_ITER = 1000  # and a good number of iterations\n",
        "cfg.SOLVER.STEPS = []        # do not decay learning rate"
      ],
      "execution_count": null,
      "outputs": []
    },
    {
      "cell_type": "markdown",
      "metadata": {
        "id": "hmuOnfD7mBHP"
      },
      "source": [
        "Visual 3 images selected from the test set: for visualisation of a sample for qualitative comparison."
      ]
    },
    {
      "cell_type": "code",
      "metadata": {
        "id": "VrCFkKJvl8k-"
      },
      "source": [
        "sample_idx = [1, 10, 45]\n",
        "for idx in sample_idx:    \n",
        "    d = dataset_dicts_test[idx]\n",
        "    im = cv2.imread(d[\"file_name\"])\n",
        "    outputs = predictor(im)  # format is documented at https://detectron2.readthedocs.io/tutorials/models.html#model-output-format\n",
        "    v = Visualizer(im[:, :, ::-1],\n",
        "                   metadata=metadata_train, \n",
        "                   scale=0.5, \n",
        "                   instance_mode=ColorMode.IMAGE_BW   # remove the colors of unsegmented pixels. This option is only available for segmentation models\n",
        "    )\n",
        "    out = v.draw_instance_predictions(outputs[\"instances\"].to(\"cpu\"))\n",
        "    cv2_imshow(out.get_image()[:, :, ::-1])"
      ],
      "execution_count": null,
      "outputs": []
    },
    {
      "cell_type": "markdown",
      "metadata": {
        "id": "98_M4TooqSs2"
      },
      "source": [
        "## Part 2: Semantic Segmentation"
      ]
    },
    {
      "cell_type": "markdown",
      "metadata": {
        "id": "ByAEsMtIPLrO"
      },
      "source": [
        "### Get instance sample\n"
      ]
    },
    {
      "cell_type": "code",
      "metadata": {
        "id": "IrKh4UkAOnAn"
      },
      "source": [
        "'''\n",
        "# Write a function that returns the cropped image and corresponding mask regarding the target bounding box\n",
        "# idx is the index of the target bbox in the data\n",
        "# high-resolution image could be passed or could be load from data['file_name']\n",
        "# You can use the mask attribute of detectron2.utils.visualizer.GenericMask \n",
        "#     to convert the segmentation annotations to binary masks\n",
        "# TODO: approx 10 lines\n",
        "'''\n",
        "from detectron2.utils.visualizer import GenericMask\n",
        "from google.colab.patches import cv2_imshow\n",
        "\n",
        "\n",
        "def get_instance_sample(data, idx, img=None, only='', resize=True):\n",
        "  mask = None\n",
        "\n",
        "  x, y, w, h = np.array(data['annotations'][idx]['bbox']).astype(int)\n",
        "\n",
        "  # resize size\n",
        "  l1 = 128\n",
        "\n",
        "  if only != 'img':\n",
        "    # getting mask \n",
        "    g_mask = GenericMask(data['annotations'][idx]['segmentation'], data['height'], data['width'])\n",
        "    obj_mask = g_mask.mask\n",
        "    mask = obj_mask[y:y+h, x:x+w]\n",
        "    if resize:\n",
        "      mask = cv2.resize(obj_mask, (l1,l1))\n",
        "\n",
        "  if only != 'mask':\n",
        "    # getting image\n",
        "    im = None\n",
        "    if img is not None:\n",
        "      im = Image.fromarray(cv2.cvtColor(img, cv2.COLOR_BGR2RGB))\n",
        "    else:\n",
        "      im = Image.open(data['file_name']).convert('RGB')\n",
        "    img = im.crop((x, y, x+w, y+h))\n",
        "    if resize:\n",
        "      img = img.resize((l1,l1))\n",
        "\n",
        "  return img, mask\n",
        "\n",
        "# test\n",
        "# my_data_list = DatasetCatalog.get(\"data_detection_{}\".format('train'))\n",
        "# get_instance_sample(my_data_list[1], 2)"
      ],
      "execution_count": null,
      "outputs": []
    },
    {
      "cell_type": "markdown",
      "metadata": {
        "id": "ch9ojOYgn1XG"
      },
      "source": [
        "### Moving images to h5"
      ]
    },
    {
      "cell_type": "code",
      "metadata": {
        "id": "DjypPGiyHFrM"
      },
      "source": [
        "def file_instance_map():\n",
        "  train_labels = DatasetCatalog.get(\"data_detection_{}\".format('train'))\n",
        "\n",
        "  # use instance map to preserve order from the template code\n",
        "  instance_map = []\n",
        "  for i, d in enumerate(train_labels):\n",
        "          for j in range(len(d['annotations'])):\n",
        "            instance_map.append([i,j])\n",
        "\n",
        "# file_instance_map()"
      ],
      "execution_count": null,
      "outputs": []
    },
    {
      "cell_type": "code",
      "metadata": {
        "id": "LuHYdG4rEBRG"
      },
      "source": [
        "import h5py\n",
        "data_dirs = '{}/data'.format(BASE_DIR)\n",
        "hdf5_path = f\"{data_dirs}/planes.hdf5\"  # path for .hdf5 file\n",
        "train_img_path = f\"{data_dirs}/train\"\n",
        "\n",
        "def create_h5_dataset():\n",
        "  num_bbox = len(instance_map)\n",
        "\n",
        "  train_X_shape = (num_bbox, 128, 128, 3)\n",
        "  train_Y_shape = (num_bbox, 128, 128, 1)\n",
        "\n",
        "  # open a hdf5 file\n",
        "  f = h5py.File(hdf5_path, mode='w')\n",
        "\n",
        "  f.create_dataset(\"train_X\", train_X_shape, np.uint8)\n",
        "  f.create_dataset(\"train_Y\", train_Y_shape, np.uint8)\n",
        "\n",
        "  # f.create_dataset(\"train_labels\", (len(train_labels),), np.uint8)\n",
        "  # f[\"train_labels\"][...] = train_labels\n",
        "\n",
        "  i = 0\n",
        "  for idx in instance_map:\n",
        "\n",
        "    if i % 10 == 0 and i > 1:\n",
        "      print(f'Serializing train data: {i}')\n",
        "      break\n",
        "\n",
        "    if torch.is_tensor(idx):\n",
        "        idx = idx.tolist()\n",
        "    data = train_labels[idx[0]]\n",
        "    img, mask = get_instance_sample(data, idx[1])\n",
        "\n",
        "    f['train_X'][i, ...] = img\n",
        "    f['train_Y'][i, ...] = mask\n",
        "\n",
        "    i+=1\n",
        "\n",
        "  f.close()\n",
        "\n",
        "# create_h5_dataset()"
      ],
      "execution_count": null,
      "outputs": []
    },
    {
      "cell_type": "markdown",
      "metadata": {
        "id": "ogCcKgocoBxp"
      },
      "source": [
        "### Data Loader"
      ]
    },
    {
      "cell_type": "code",
      "metadata": {
        "id": "sxrc9X_pjzj-"
      },
      "source": [
        "'''\n",
        "# We have provided a template data loader for your segmentation training\n",
        "# You need to complete the __getitem__() function before running the code\n",
        "# You may also need to add data augmentation or normalization in here\n",
        "'''\n",
        "\n",
        "class PlaneDataset(Dataset):\n",
        "  def __init__(self):\n",
        "      self.transforms = transforms.Compose([\n",
        "          # transforms.RandomHorizontalFlip(0.5),\n",
        "          # transforms.RandomCrop(32),\n",
        "          transforms.ToTensor(),\n",
        "          transforms.Normalize(mean=0,\n",
        "                                std=1)\n",
        "          # transforms.Normalize(mean=[0.485, 0.456, 0.406],\n",
        "          #                       std=[0.229, 0.224, 0.225])\n",
        "      ])\n",
        "      self.file = h5py.File(hdf5_path, mode='r')\n",
        "      print('loaded file\\n')\n",
        "      print(self.file)\n",
        "\n",
        "  '''\n",
        "  # you can change the value of length to a small number like 10 for debugging of your training procedure and overfeating\n",
        "  # make sure to use the correct length for the final training\n",
        "  '''\n",
        "  def __len__(self):\n",
        "      return self.file['train_X'].shape[0]\n",
        "\n",
        "  def numpy_to_tensor(self, img, mask):\n",
        "    if self.transforms is not None:\n",
        "        img = self.transforms(img)\n",
        "    img = torch.tensor(img, dtype=torch.float)\n",
        "    mask = torch.tensor(mask, dtype=torch.float)\n",
        "    return img, mask\n",
        "\n",
        "  '''\n",
        "  # Complete this part by using get_instance_sample function\n",
        "  # make sure to resize the img and mask to a fixed size (for example 128*128)\n",
        "  # you can use \"interpolate\" function of pytorch or \"numpy.resize\"\n",
        "  # TODO: 5 lines\n",
        "  '''\n",
        "  def __getitem__(self, idx):\n",
        "    img = self.file['train_X'][idx, ...]\n",
        "    mask = self.file['train_Y'][idx, ...]\n",
        "    \n",
        "    img = Image.fromarray(img)\n",
        "    mask = np.array(mask).reshape((1,128,128))\n",
        "\n",
        "\n",
        "    return self.numpy_to_tensor(img, mask)\n",
        "\n",
        "def get_plane_dataset(set_name='train', batch_size=2):\n",
        "    # my_data_list = DatasetCatalog.get(\"data_detection_{}\".format(set_name))\n",
        "    dataset = PlaneDataset()\n",
        "    loader = DataLoader(dataset, batch_size=batch_size, num_workers=4,\n",
        "                                              pin_memory=True, shuffle=True)\n",
        "    return loader, dataset"
      ],
      "execution_count": null,
      "outputs": []
    },
    {
      "cell_type": "markdown",
      "metadata": {
        "id": "m6eH3NKaQQfc"
      },
      "source": [
        "### Network"
      ]
    },
    {
      "cell_type": "code",
      "metadata": {
        "id": "PeqR3s3dSBPN"
      },
      "source": [
        "'''\n",
        "# convolution module as a template layer consists of conv2d layer, batch normalization, and relu activation\n",
        "'''\n",
        "class conv(nn.Module):\n",
        "    def __init__(self, in_ch, out_ch, activation=True):\n",
        "        super(conv, self).__init__()\n",
        "        if(activation):\n",
        "          self.layer = nn.Sequential(\n",
        "             nn.Conv2d(in_ch, out_ch, 3, padding=1),\n",
        "             nn.BatchNorm2d(out_ch),\n",
        "             nn.ReLU(inplace=True)\n",
        "          )\n",
        "        else:\n",
        "          self.layer = nn.Sequential(\n",
        "             nn.Conv2d(in_ch, out_ch, 3, padding=1)  \n",
        "             )\n",
        "\n",
        "    def forward(self, x):\n",
        "        x = self.layer(x)\n",
        "        return x\n",
        "\n",
        "'''\n",
        "# downsampling module equal to a conv module followed by a max-pool layer\n",
        "'''\n",
        "class down(nn.Module):\n",
        "    def __init__(self, in_ch, out_ch):\n",
        "        super(down, self).__init__()\n",
        "        self.layer = nn.Sequential(\n",
        "            conv(in_ch, out_ch),\n",
        "            nn.MaxPool2d(2)\n",
        "            )\n",
        "\n",
        "    def forward(self, x):\n",
        "        x = self.layer(x)\n",
        "        return x\n",
        "\n",
        "'''\n",
        "# upsampling module equal to a upsample function followed by a conv module\n",
        "'''\n",
        "class up(nn.Module):\n",
        "    def __init__(self, in_ch, out_ch, bilinear=False):\n",
        "        super(up, self).__init__()\n",
        "        if bilinear:\n",
        "            self.up = nn.Upsample(scale_factor=2, mode='bilinear', align_corners=True)\n",
        "        else:\n",
        "            self.up = nn.ConvTranspose2d(in_ch, in_ch, 2, stride=2)\n",
        "\n",
        "        self.conv = conv(in_ch, out_ch)\n",
        "\n",
        "    def forward(self, x):\n",
        "        y = self.up(x)\n",
        "        y = self.conv(y)\n",
        "        return y\n",
        "\n",
        "'''\n",
        "# the main model which you need to complete by using above modules.\n",
        "# you can also modify the above modules in order to improve your results.\n",
        "'''\n",
        "class MyModel(nn.Module):\n",
        "    def __init__(self):\n",
        "        super(MyModel, self).__init__()\n",
        "        \n",
        "        # Encoder\n",
        "        \n",
        "        self.conv1 = conv(3, 64)\n",
        "        self.down1 = down(64, 64)\n",
        "        # Output size = 128//2 x 128//2 = 64 x 64\n",
        "        self.conv2 = conv(64, 128)\n",
        "        self.down2 = down(128, 128)\n",
        "        # Output size = 64//2 x 64//2 = 32 x 32\n",
        "        self.conv3 = conv(128, 256)\n",
        "        self.down3 = down(256, 256)\n",
        "        # Output size = 32//2 x 32//2 = 16 x 16\n",
        "        self.conv4 = conv(256, 512)\n",
        "        self.conv5 = conv(512, 512)\n",
        "        \n",
        "        # Decoder\n",
        "\n",
        "        self.up1 = up(512, 256)\n",
        "        # Output size = 16*2 x 16*2 = 32 x 32\n",
        "        self.conv6 = conv(256, 256)\n",
        "        self.up2 = up(256, 128)\n",
        "        # Output size = 32*2 x 32*2 = 64 x 64\n",
        "        self.conv7 = conv(128, 128)\n",
        "        self.up3 = up(128, 64)\n",
        "        # Output size = 64*2 x 64*2 = 128 x 128\n",
        "        self.conv8 = conv(64, 64)\n",
        "        self.output_conv = conv(64, 1, False) # ReLu activation is removed to keep the logits for the loss function\n",
        "        \n",
        "\n",
        "    def forward(self, input):\n",
        "      y = self.conv1(input)\n",
        "      y = self.down1(y)\n",
        "      y = self.conv2(y)\n",
        "      y = self.down2(y)\n",
        "      y = self.conv3(y)\n",
        "      y = self.down3(y)\n",
        "      y = self.conv4(y)\n",
        "      y = self.conv5(y)\n",
        "      y = self.up1(y)\n",
        "      y = self.conv6(y)\n",
        "      y = self.up2(y)\n",
        "      y = self.conv7(y)\n",
        "      y = self.up3(y)\n",
        "      y = self.conv8(y)\n",
        "      output = self.output_conv(y)\n",
        "      return output"
      ],
      "execution_count": null,
      "outputs": []
    },
    {
      "cell_type": "markdown",
      "metadata": {
        "id": "rQj86vD9QT_Z"
      },
      "source": [
        "### Training"
      ]
    },
    {
      "cell_type": "code",
      "metadata": {
        "id": "MaZuO4SKSBuF"
      },
      "source": [
        "# The following is a basic training procedure to train the network\n",
        "# You need to update the code to get the best performance\n",
        "# TODO: approx ? lines\n",
        "'''\n",
        "'''\n",
        "# Set the hyperparameters\n",
        "num_epochs = 5\n",
        "# num_epochs = 0 # to stop re-training when running notebook\n",
        "batch_size = 4\n",
        "learning_rate = 0.02\n",
        "weight_decay = 1e-5\n",
        "\n",
        "model = MyModel() # initialize the model\n",
        "model = model.cuda() # move the model to GPU\n",
        "loader, _ = get_plane_dataset('train', batch_size) # initialize data_loader\n",
        "crit = nn.BCEWithLogitsLoss() # Define the loss function\n",
        "optim = torch.optim.SGD(model.parameters(), lr=learning_rate, weight_decay=weight_decay) # Initialize the optimizer as SGD\n",
        "\n",
        "# start the training procedure\n",
        "for epoch in range(num_epochs):\n",
        "  total_loss = 0\n",
        "  for (img, mask) in tqdm(loader):\n",
        "    img = torch.tensor(img, device=torch.device('cuda'), requires_grad = True)\n",
        "    mask = torch.tensor(mask, device=torch.device('cuda'), requires_grad = True)\n",
        "    pred = model(img)\n",
        "    loss = crit(pred, mask)\n",
        "    optim.zero_grad()\n",
        "    loss.backward()\n",
        "    optim.step()\n",
        "    total_loss += loss.cpu().data\n",
        "  print(\"Epoch: {}, Loss: {}\".format(epoch, total_loss/len(loader)))\n",
        "  torch.save(model.state_dict(), '{}/output/{}_segmentation_model.pth'.format(BASE_DIR, epoch))\n",
        "\n",
        "'''\n",
        "# Saving the final model\n",
        "'''\n",
        "torch.save(model.state_dict(), '{}/output/final_segmentation_model.pth'.format(BASE_DIR))"
      ],
      "execution_count": null,
      "outputs": []
    },
    {
      "cell_type": "markdown",
      "metadata": {
        "id": "0dyez1fyQYw7"
      },
      "source": [
        "### Evaluation and Visualization"
      ]
    },
    {
      "cell_type": "code",
      "metadata": {
        "id": "TDeViryUSCL2"
      },
      "source": [
        "'''\n",
        "# Before starting the evaluation, you need to set the model mode to eval\n",
        "# You may load the trained model again, in case if you want to continue your code later\n",
        "# TODO: approx 15 lines\n",
        "'''\n",
        "import matplotlib.pyplot as plt\n",
        "\n",
        "batch_size = 8\n",
        "model = MyModel().cuda()\n",
        "model.load_state_dict(torch.load('{}/output/final_segmentation_model.pth'.format(BASE_DIR)))\n",
        "model = model.eval() # changing the model to evaluation mode will fix the bachnorm layers\n",
        "loader, dataset = get_plane_dataset('train', batch_size)\n",
        "\n",
        "THRESHOLD = -0.5 # used to threshold predicted mask\n",
        "\n",
        "total_iou = 0\n",
        "i = 0 #del\n",
        "for (img, mask) in tqdm(loader):\n",
        "  with torch.no_grad():\n",
        "    img = img.cuda()\n",
        "    mask = mask.cuda()\n",
        "    pred = model(img)\n",
        "\n",
        "    for b in range(batch_size):\n",
        "      # conv to cv2\n",
        "      a =  pred[b].detach().cpu().squeeze().numpy()\n",
        "      b =  mask[b].detach().cpu().squeeze().numpy()\n",
        "\n",
        "      _, a_thresh = cv2.threshold(a, THRESHOLD, 1.0,cv2.THRESH_BINARY)\n",
        "\n",
        "      # calc IoU\n",
        "      inter = cv2.bitwise_and(a_thresh, b)\n",
        "      union = cv2.bitwise_or(a_thresh, b)\n",
        "      inter_c = cv2.countNonZero(inter)\n",
        "      union_c = cv2.countNonZero(union)\n",
        "      iou = inter_c/union_c\n",
        "      total_iou += iou\n",
        "\n",
        "      if i>0 and i % 1000 == 0:\n",
        "        print(f\"iter {i}, curr mean IoU: {total_iou/(i+1)}\")\n",
        "      i+=1\n",
        "    \n",
        "      # visualization\n",
        "      # a_n = cv2.normalize(src=a_thresh, dst=None, alpha=0, beta=255, norm_type=cv2.NORM_MINMAX, dtype=cv2.CV_8U)\n",
        "      # b_n = cv2.normalize(src=b, dst=None, alpha=0, beta=255, norm_type=cv2.NORM_MINMAX, dtype=cv2.CV_8U)\n",
        "      # inter_n = cv2.normalize(src=inter, dst=None, alpha=0, beta=255, norm_type=cv2.NORM_MINMAX, dtype=cv2.CV_8U)\n",
        "      # cv2_imshow(a_n)\n",
        "      # cv2_imshow(b_n)\n",
        "    \n",
        "mean_iou = total_iou/len(dataset)\n",
        "print(\"\\n #images: {}, Mean IoU: {}\".format(len(dataset), mean_iou))"
      ],
      "execution_count": null,
      "outputs": []
    },
    {
      "cell_type": "code",
      "metadata": {
        "id": "jbmTj9JICiKz"
      },
      "source": [
        "'''\n",
        "# Visualize 3 sample outputs\n",
        "# TODO: approx 5 lines\n",
        "'''\n",
        "trans = transforms.ToTensor()\n",
        "\n",
        "for file in os.listdir(f\"{data_dirs}/test_cropped\"):\n",
        "    filename = os.path.join(f\"{data_dirs}//test_cropped\", file)\n",
        "    im = Image.open(filename).resize((128,128))\n",
        "    img = torch.tensor(trans(im), dtype=torch.float)\n",
        "    img = img.unsqueeze(0)\n",
        "    predt = model(img.cuda())\n",
        "    a =  predt[0].detach().cpu().squeeze().numpy()\n",
        "\n",
        "    cv_im = np.array(im) \n",
        "    # Convert RGB to BGR \n",
        "    cv_im = cv_im[:, :, ::-1].copy() \n",
        "\n",
        "    _, a_thresh = cv2.threshold(a, THRESHOLD, 1.0,cv2.THRESH_BINARY)\n",
        "    a_n = cv2.normalize(src=a_thresh, dst=None, alpha=0, beta=255, norm_type=cv2.NORM_MINMAX, dtype=cv2.CV_8U)\n",
        "    cv2_imshow(cv_im)\n",
        "    cv2_imshow(a_n)"
      ],
      "execution_count": null,
      "outputs": []
    },
    {
      "cell_type": "markdown",
      "metadata": {
        "id": "navoiGdrqaZT"
      },
      "source": [
        "## Part 3: Instance Segmentation\n",
        "\n",
        "In this part, you need to obtain the instance segmentation results for the test data by using the trained segmentation model in the previous part and the detection model in Part 1."
      ]
    },
    {
      "cell_type": "markdown",
      "metadata": {
        "id": "vBwk33DGBowP"
      },
      "source": [
        "### Get Prediction"
      ]
    },
    {
      "cell_type": "code",
      "metadata": {
        "id": "crrZ8TG-Ot2J"
      },
      "source": [
        "'''\n",
        "# Define a new function to obtain the prediction mask by passing a sample data\n",
        "# For this part, you need to use all the previous parts (predictor, get_instance_sample, data preprocessings, etc)\n",
        "# It is better to keep everything (as well as the output of this funcion) on gpu as tensors to speed up the operations.\n",
        "# pred_mask is the instance segmentation result and should have different values for different planes.\n",
        "# TODO: approx 35 lines\n",
        "'''\n",
        "dataset_dicts_test = get_detection_data(\"test\") # run this line once\n",
        "dataset_dicts_train = get_detection_data(\"train\") # run this line once\n",
        "\n",
        "def fill_pred_data(inp):\n",
        "  data = {\n",
        "    'annotations': [],\n",
        "    'height': inp['instances'].image_size[0],\n",
        "    'width': inp['instances'].image_size[1],\n",
        "  }\n",
        "  bboxes = inp['instances'].pred_boxes.tensor.cpu().numpy()\n",
        "  for box in bboxes:\n",
        "    # convert to XYWH\n",
        "    b_dict = {'bbox': [box[0], box[1], box[2]-box[0], box[3]-box[1]]}\n",
        "    data['annotations'].append(b_dict)\n",
        "  return data\n",
        "\n",
        "# used to convert img to tensor\n",
        "trans = transforms.ToTensor()\n",
        "\n",
        "def get_prediction_mask(data):\n",
        "  im = cv2.imread(data[\"file_name\"])\n",
        "  # create gt_mask\n",
        "  gt_mask = np.zeros((data['height'],data['width']), np.float32)\n",
        "  for i in range(len(data['annotations'])):\n",
        "    _, mask = get_instance_sample(data, i, im, only='mask', resize=False)\n",
        "    x, y, w, h = np.array(data['annotations'][i]['bbox']).astype(int)\n",
        "    gt_mask[y:y+h, x:x+w] = mask*(i+1)\n",
        "\n",
        "  # detect planes and bounding boxes\n",
        "  outputs = predictor(im)  # format is documented at https://detectron2.readthedocs.io/tutorials/models.html#model-output-format\n",
        "  pred_data = fill_pred_data(outputs)\n",
        "\n",
        "  # generate predicted pred_mask\n",
        "  pred_mask = np.zeros((data['height'],data['width']), np.float32)\n",
        "  for i in range(len(pred_data['annotations'])):\n",
        "    img, _ = get_instance_sample(pred_data, i, im, only='img', resize=True)\n",
        "    x, y, w, h = np.array(pred_data['annotations'][i]['bbox']).astype(int)\n",
        "    img = torch.tensor(trans(img), dtype=torch.float)\n",
        "    img = img.unsqueeze(0)\n",
        "    predt = model(img.cuda())\n",
        "    a =  predt[0].detach().cpu().squeeze().numpy()\n",
        "    mask = cv2.resize(a, (w,h))\n",
        "    _, mask = cv2.threshold(mask, THRESHOLD, i+1 ,cv2.THRESH_BINARY)\n",
        "    pred_mask[y:y+h, x:x+w] = mask\n",
        "  \n",
        "  iou=0\n",
        "  if len(data['annotations']) > 0:\n",
        "    inter = cv2.countNonZero(cv2.bitwise_and(gt_mask, pred_mask))\n",
        "    union = cv2.countNonZero(cv2.bitwise_or(gt_mask, pred_mask))\n",
        "    iou = inter/float(union)\n",
        "  \n",
        "  return im, gt_mask, trans(pred_mask).cuda(), iou # gt_mask could be all zero when the ground truth is not given.\n",
        "\n",
        "# get_prediction_mask(dataset_dicts_train[2]);\n",
        "# get_prediction_mask(dataset_dicts_test[0]);"
      ],
      "execution_count": null,
      "outputs": []
    },
    {
      "cell_type": "markdown",
      "metadata": {
        "id": "fc7TSK6EBi9u"
      },
      "source": [
        "### Visualization and Submission"
      ]
    },
    {
      "cell_type": "code",
      "metadata": {
        "id": "H7T2YX8MBiGO"
      },
      "source": [
        "'''\n",
        "# Visualise the output prediction as well as the GT Mask and Input image for a sample input\n",
        "# TODO: approx 10 lines\n",
        "'''\n",
        "data_list_train = DatasetCatalog.get(\"data_detection_{}\".format('train'))\n",
        "data_list_test = DatasetCatalog.get(\"data_detection_{}\".format('test'))\n",
        "\n",
        "samples = [data_list_train[0], data_list_train[1], data_list_train[2]]\n",
        "\n",
        "# for sample in samples:\n",
        "for d in random.sample(data_list_train, 3):    \n",
        "  img, gt_mask, pred_mask, _ = get_prediction_mask(d);\n",
        "\n",
        "  pred_mask = pred_mask[0].detach().cpu().squeeze().numpy()\n",
        "\n",
        "  height, width, _ = img.shape\n",
        "\n",
        "  img_n = cv2.normalize(src=img, dst=None, alpha=0, beta=255, norm_type=cv2.NORM_MINMAX, dtype=cv2.CV_8U)\n",
        "  img_n = cv2.resize(img_n, (width//2, height//2))\n",
        "  cv2_imshow(img_n)\n",
        "\n",
        "  pred_rgb = np.zeros((height,width,3), np.float32)\n",
        "  gt_rgb = np.zeros((height,width,3), np.float32)\n",
        "  num_instances = max(int(np.max(gt_mask)), int(np.max(pred_mask)))\n",
        "  ins_to_color = []\n",
        "  for i in range(num_instances):\n",
        "    color = list(np.random.choice(range(100,256), size=3))\n",
        "    ins_to_color.append(color)\n",
        "    pred_rgb[np.where(pred_mask == i+1)] = color\n",
        "    gt_rgb[np.where(gt_mask == i+1)] = color\n",
        "\n",
        "\n",
        "  if cv2.countNonZero(gt_mask):\n",
        "    gt_rgb = cv2.normalize(src=gt_rgb, dst=None, alpha=0, beta=255, norm_type=cv2.NORM_MINMAX, dtype=cv2.CV_8U)\n",
        "    gt_rgb = cv2.resize(gt_rgb, (width//2, height//2))\n",
        "    print(\"ground truth:\")\n",
        "    cv2_imshow(gt_rgb)\n",
        "\n",
        "  pred_rgb = cv2.normalize(src=pred_rgb, dst=None, alpha=0, beta=255, norm_type=cv2.NORM_MINMAX, dtype=cv2.CV_8U)\n",
        "  pred_rgb = cv2.resize(pred_rgb, (width//2, height//2))\n",
        "  print(\"prediction:\")\n",
        "  cv2_imshow(pred_rgb)\n",
        "\n",
        "  inter = cv2.countNonZero(cv2.bitwise_and(gt_mask, pred_mask))\n",
        "  union = cv2.countNonZero(cv2.bitwise_or(gt_mask, pred_mask))\n",
        "\n",
        "  iou = inter/float(union)\n",
        "  print('IoU is', iou)\n",
        "\n"
      ],
      "execution_count": null,
      "outputs": []
    },
    {
      "cell_type": "code",
      "metadata": {
        "id": "uPo_03up-g_f"
      },
      "source": [
        "'''\n",
        "# ref: https://www.kaggle.com/rakhlin/fast-run-length-encoding-python\n",
        "# https://www.kaggle.com/c/airbus-ship-detection/overview/evaluation\n",
        "'''\n",
        "def rle_encoding(x):\n",
        "    '''\n",
        "    x: pytorch tensor on gpu, 1 - mask, 0 - background\n",
        "    Returns run length as list\n",
        "    '''\n",
        "    dots = torch.where(torch.flatten(x.long())==1)[0]\n",
        "    if(len(dots)==0):\n",
        "      return []\n",
        "    inds = torch.where(dots[1:]!=dots[:-1]+1)[0]+1\n",
        "    inds = torch.cat((torch.tensor([0], device=torch.device('cuda'), dtype=torch.long), inds))\n",
        "    tmpdots = dots[inds]\n",
        "    inds = torch.cat((inds, torch.tensor([len(dots)], device=torch.device('cuda'))))\n",
        "    inds = inds[1:] - inds[:-1]\n",
        "    runs = torch.cat((tmpdots, inds)).reshape((2,-1))\n",
        "    runs = torch.flatten(torch.transpose(runs, 0, 1)).cpu().data.numpy()\n",
        "    return ' '.join([str(i) for i in runs])"
      ],
      "execution_count": null,
      "outputs": []
    },
    {
      "cell_type": "code",
      "metadata": {
        "id": "zv0rab2LJev-"
      },
      "source": [
        "\n",
        "# You need to upload the csv file on kaggle\n",
        "# The speed of your code in the previous parts highly affects the running time of this part\n",
        "'''\n",
        "'''\n",
        "\n",
        "preddic = {\"ImageId\": [], \"EncodedPixels\": []}\n",
        "\n",
        "'''\n",
        "# Writing the predictions of the training set\n",
        "'''\n",
        "\n",
        "total_iou = 0\n",
        "data_list_train = DatasetCatalog.get(\"data_detection_{}\".format('train'))\n",
        "for i in tqdm(range(len(data_list_train)), position=0, leave=True):\n",
        "  sample = data_list_train[i]\n",
        "  sample['image_id'] = sample['file_name'].split(\"/\")[-1][:-4]\n",
        "  img, true_mask, pred_mask, iou = get_prediction_mask(sample)\n",
        "  \n",
        "  total_iou += iou\n",
        "  if i % 10 == 0:\n",
        "    print(f'iter {i}: avg iou: {total_iou/(i+1)}')\n",
        "  \n",
        "  inds = torch.unique(pred_mask)\n",
        "  if(len(inds)==1):\n",
        "    preddic['ImageId'].append(sample['image_id'])\n",
        "    preddic['EncodedPixels'].append([])\n",
        "  else:\n",
        "    for index in inds:\n",
        "      if(index == 0):\n",
        "        continue\n",
        "      tmp_mask = (pred_mask==index)\n",
        "      encPix = rle_encoding(tmp_mask)\n",
        "      preddic['ImageId'].append(sample['image_id'])\n",
        "      preddic['EncodedPixels'].append(encPix)\n",
        "\n",
        "print('avg iou:', total_iou/len(data_list_train))\n",
        "\n",
        "'''\n",
        "# Writing the predictions of the test set\n",
        "'''\n",
        "\n",
        "data_list_test = DatasetCatalog.get(\"data_detection_{}\".format('test'))\n",
        "for i in tqdm(range(len(data_list_test)), position=0, leave=True):\n",
        "  sample = data_list_test[i]\n",
        "  sample['image_id'] = sample['file_name'].split(\"/\")[-1][:-4]\n",
        "  img, true_mask, pred_mask, _ = get_prediction_mask(sample)\n",
        "  inds = torch.unique(pred_mask)\n",
        "  if(len(inds)==1):\n",
        "    preddic['ImageId'].append(sample['image_id'])\n",
        "    preddic['EncodedPixels'].append([])\n",
        "  else:\n",
        "    for j, index in enumerate(inds):\n",
        "      if(index == 0):\n",
        "        continue\n",
        "      tmp_mask = (pred_mask==index).double()\n",
        "      encPix = rle_encoding(tmp_mask)\n",
        "      preddic['ImageId'].append(sample['image_id'])\n",
        "      preddic['EncodedPixels'].append(encPix)\n",
        "\n",
        "pred_file = open(\"{}/pred.csv\".format(BASE_DIR), 'w')\n",
        "pd.DataFrame(preddic).to_csv(pred_file, index=False)\n",
        "pred_file.close()\n",
        "\n"
      ],
      "execution_count": null,
      "outputs": []
    },
    {
      "cell_type": "markdown",
      "metadata": {
        "id": "p7nN4SduqrpI"
      },
      "source": [
        "## Part 4: Mask R-CNN\n",
        "\n",
        "For this part you need to follow a same procedure to part 2 with the configs of Mask R-CNN, other parts are generally the same as part 2."
      ]
    },
    {
      "cell_type": "markdown",
      "metadata": {
        "id": "axWf7drKNXYd"
      },
      "source": [
        "### Config and Training"
      ]
    },
    {
      "cell_type": "code",
      "metadata": {
        "id": "yC1FDCcQN2LH"
      },
      "source": [
        "from detectron2.engine import DefaultTrainer\n",
        "\n",
        "cfg = get_cfg()\n",
        "cfg.OUTPUT_DIR = \"{}/output/mask_rcnn/\".format(BASE_DIR)\n",
        "cfg.merge_from_file(model_zoo.get_config_file(\"COCO-InstanceSegmentation/mask_rcnn_R_50_FPN_3x.yaml\"))\n",
        "cfg.DATASETS.TRAIN = (\"data_detection_train\",)\n",
        "cfg.DATASETS.TEST = ()\n",
        "cfg.DATALOADER.NUM_WORKERS = 2\n",
        "cfg.MODEL.WEIGHTS = model_zoo.get_checkpoint_url(\"COCO-InstanceSegmentation/mask_rcnn_R_50_FPN_3x.yaml\")  # Let training initialize from model zoo\n",
        "cfg.SOLVER.IMS_PER_BATCH = 4  # batch size\n",
        "cfg.SOLVER.BASE_LR = 0.0005  # pick a good LR\n",
        "cfg.SOLVER.MAX_ITER = 500    # 300 iterations seems good enough for this toy dataset; you will need to train longer for a practical dataset\n",
        "cfg.SOLVER.STEPS = []        # do not decay learning rate\n",
        "cfg.MODEL.ROI_HEADS.BATCH_SIZE_PER_IMAGE = 512\n",
        "cfg.MODEL.ROI_HEADS.NUM_CLASSES = 1 \n",
        "# NOTE: this config means the number of classes, but a few popular unofficial tutorials incorrect uses num_classes+1 here.\n",
        "\n",
        "os.makedirs(cfg.OUTPUT_DIR, exist_ok=True)\n",
        "trainer = DefaultTrainer(cfg) \n",
        "trainer.resume_or_load(resume=False)\n",
        "trainer.train()"
      ],
      "execution_count": null,
      "outputs": []
    },
    {
      "cell_type": "markdown",
      "metadata": {
        "id": "lG5slAhQNjE7"
      },
      "source": [
        "### Visualization"
      ]
    },
    {
      "cell_type": "code",
      "metadata": {
        "id": "6yx13ZPTSzuW"
      },
      "source": [
        "# Inference should use the config with parameters that are used in training\n",
        "# cfg now already contains everything we've set previously. We changed it a little bit for inference:\n",
        "\n",
        "cfg.MODEL.WEIGHTS = os.path.join(cfg.OUTPUT_DIR, \"model_final.pth\")  # path to the model we just trained\n",
        "cfg.MODEL.ROI_HEADS.SCORE_THRESH_TEST = 0.7 # set threshold for this model\n",
        "predictor = DefaultPredictor(cfg)"
      ],
      "execution_count": null,
      "outputs": []
    },
    {
      "cell_type": "code",
      "metadata": {
        "id": "KG1pnKLMOcjS"
      },
      "source": [
        "from detectron2.utils.visualizer import ColorMode\n",
        "dataset_dicts = get_detection_data(\"train\")\n",
        "\n",
        "for d in random.sample(dataset_dicts, 3):    \n",
        "    im = cv2.imread(d[\"file_name\"])\n",
        "    outputs = predictor(im)  # format is documented at https://detectron2.readthedocs.io/tutorials/models.html#model-output-format\n",
        "    v = Visualizer(im[:, :, ::-1],\n",
        "                   metadata=metadata_train, \n",
        "                   scale=0.5, \n",
        "                   instance_mode=ColorMode.SEGMENTATION   # remove the colors of unsegmented pixels. This option is only available for segmentation models\n",
        "    )\n",
        "    out = v.draw_instance_predictions(outputs[\"instances\"].to(\"cpu\"))\n",
        "    cv2_imshow(out.get_image()[:, :, ::-1])\n"
      ],
      "execution_count": null,
      "outputs": []
    },
    {
      "cell_type": "markdown",
      "metadata": {
        "id": "t7ifeV1sNvtt"
      },
      "source": [
        "### Evaluation\n",
        "\n"
      ]
    },
    {
      "cell_type": "code",
      "metadata": {
        "id": "tc4K0Nz5OeKk"
      },
      "source": [
        "'''\n",
        "# Use COCOEvaluator and build_detection_train_loader\n",
        "# You can save the output predictions using inference_on_dataset\n",
        "# TODO: approx 5 lines\n",
        "'''\n",
        "from detectron2.evaluation import COCOEvaluator, inference_on_dataset\n",
        "from detectron2.data import build_detection_test_loader\n",
        "evaluator = COCOEvaluator(\"data_detection_train\", output_dir=OUTPUT_DIR)\n",
        "\n",
        "val_loader = build_detection_test_loader(cfg, \"data_detection_train\")\n",
        "print(inference_on_dataset(predictor.model, val_loader, evaluator))"
      ],
      "execution_count": null,
      "outputs": []
    }
  ]
}